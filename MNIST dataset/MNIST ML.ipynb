{
 "cells": [
  {
   "cell_type": "markdown",
   "id": "99708803-cb44-454c-b7a5-826c68a96aec",
   "metadata": {},
   "source": [
    "### MNIST dataset: Train five models"
   ]
  },
  {
   "cell_type": "code",
   "execution_count": 23,
   "id": "deeab945-2cad-4b73-8f5e-3bc043101862",
   "metadata": {},
   "outputs": [],
   "source": [
    "import numpy as np\n",
    "import matplotlib.pyplot as plt\n",
    "from sklearn import datasets\n",
    "from sklearn.svm import SVC\n",
    "from sklearn.model_selection import train_test_split\n",
    "from sklearn.preprocessing import StandardScaler\n",
    "from sklearn.metrics import classification_report, accuracy_score\n",
    "\n",
    "train_data=pd.read_csv(\"mnist_train.csv\")\n",
    "test_data=pd.read_csv(\"mnist_test.csv\")"
   ]
  },
  {
   "cell_type": "code",
   "execution_count": 24,
   "id": "626685df-f654-48b9-af6b-feba109b4b96",
   "metadata": {},
   "outputs": [],
   "source": [
    "# Split the data into training and test sets\n",
    "X_train = train_data.iloc[:, 1:].values  # All columns except the first (pixel values)\n",
    "y_train = train_data.iloc[:, 0].values   # The first column is the label (digit class)\n",
    "\n",
    "X_test = test_data.iloc[:, 1:].values  # All columns except the first (pixel values)\n",
    "y_test = test_data.iloc[:, 0].values   # The first column is the label (digit class)\n",
    "\n",
    "X_train_split, X_val_split, y_train_split, y_val_split = train_test_split(X_train, y_train, test_size=0.2, random_state=42)"
   ]
  },
  {
   "cell_type": "code",
   "execution_count": 25,
   "id": "8d157c77-bd04-476d-a09b-a8b7dd9cbfdf",
   "metadata": {},
   "outputs": [],
   "source": [
    "scaler = StandardScaler()\n",
    "X_train_split = scaler.fit_transform(X_train_split)  # Fit and transform training data\n",
    "X_val_split = scaler.transform(X_val_split)        # Transform validation data based on training scaler\n",
    "X_test = scaler.transform(X_test)                   # Transform test data based on training scaler"
   ]
  },
  {
   "cell_type": "markdown",
   "id": "10f57b43-723b-47e1-bdb6-b8caaf93dcf3",
   "metadata": {},
   "source": [
    "#### SVC WITH LINEAR KERNEL"
   ]
  },
  {
   "cell_type": "code",
   "execution_count": 26,
   "id": "754352e4-601a-4715-819b-23a79d48559d",
   "metadata": {},
   "outputs": [],
   "source": [
    "svm = SVC(kernel='linear')\n",
    "svm.fit(X_train_split, y_train_split)\n",
    "y_val_pred = svm.predict(X_val_split)"
   ]
  },
  {
   "cell_type": "code",
   "execution_count": 27,
   "id": "f57dcd30-d2ab-4e42-8cce-9e40383676b8",
   "metadata": {},
   "outputs": [
    {
     "name": "stdout",
     "output_type": "stream",
     "text": [
      "Validation Set Performance:\n",
      "              precision    recall  f1-score   support\n",
      "\n",
      "           0       0.95      0.97      0.96      1175\n",
      "           1       0.94      0.97      0.96      1322\n",
      "           2       0.87      0.91      0.89      1174\n",
      "           3       0.88      0.90      0.89      1219\n",
      "           4       0.92      0.95      0.93      1176\n",
      "           5       0.90      0.87      0.89      1104\n",
      "           6       0.97      0.95      0.96      1177\n",
      "           7       0.95      0.94      0.94      1299\n",
      "           8       0.91      0.86      0.88      1160\n",
      "           9       0.93      0.89      0.91      1194\n",
      "\n",
      "    accuracy                           0.92     12000\n",
      "   macro avg       0.92      0.92      0.92     12000\n",
      "weighted avg       0.92      0.92      0.92     12000\n",
      "\n",
      "Validation Accuracy Score: 0.9218333333333333\n"
     ]
    }
   ],
   "source": [
    "print(\"Validation Set Performance:\")\n",
    "print(classification_report(y_val_split, y_val_pred))\n",
    "print(\"Validation Accuracy Score:\", accuracy_score(y_val_split, y_val_pred))\n"
   ]
  },
  {
   "cell_type": "code",
   "execution_count": 28,
   "id": "22d351e1-be92-4298-b575-158bb404411b",
   "metadata": {
    "scrolled": true
   },
   "outputs": [
    {
     "name": "stdout",
     "output_type": "stream",
     "text": [
      "Test Set Performance:\n",
      "              precision    recall  f1-score   support\n",
      "\n",
      "           0       0.94      0.97      0.95       980\n",
      "           1       0.96      0.98      0.97      1135\n",
      "           2       0.89      0.92      0.91      1032\n",
      "           3       0.88      0.93      0.90      1010\n",
      "           4       0.92      0.95      0.94       982\n",
      "           5       0.91      0.87      0.89       892\n",
      "           6       0.96      0.93      0.94       958\n",
      "           7       0.95      0.92      0.93      1028\n",
      "           8       0.90      0.87      0.88       974\n",
      "           9       0.94      0.89      0.91      1009\n",
      "\n",
      "    accuracy                           0.92     10000\n",
      "   macro avg       0.92      0.92      0.92     10000\n",
      "weighted avg       0.93      0.92      0.92     10000\n",
      "\n",
      "Test Accuracy Score: 0.9248\n"
     ]
    },
    {
     "data": {
      "image/png": "[encoded data removed]",
      "text/plain": [
       "<Figure size 1000x300 with 5 Axes>"
      ]
     },
     "metadata": {},
     "output_type": "display_data"
    }
   ],
   "source": [
    "# Now, test the model on the test dataset\n",
    "y_test_pred = svm.predict(X_test)\n",
    "\n",
    "# Evaluate the model performance on the test set\n",
    "print(\"Test Set Performance:\")\n",
    "print(classification_report(y_test, y_test_pred))\n",
    "print(\"Test Accuracy Score:\", accuracy_score(y_test, y_test_pred))\n",
    "\n",
    "# Optional: Visualize a few test images along with their predicted labels\n",
    "# Reshape a few test samples back to 28x28 for visualization purposes\n",
    "fig, axes = plt.subplots(1, 5, figsize=(10, 3))\n",
    "for i, ax in enumerate(axes):\n",
    "    ax.imshow(X_test[i].reshape(28, 28), cmap='gray')  # Reshape the flattened vector to 28x28\n",
    "    ax.set_title(f\"Pred: {y_test_pred[i]}\")\n",
    "    ax.axis('off')\n",
    "plt.show()\n"
   ]
  },
  {
   "cell_type": "markdown",
   "id": "cddaa028-9118-4a70-83ff-1796bbdecb63",
   "metadata": {},
   "source": [
    "#### SVC with rbf Kernel"
   ]
  },
  {
   "cell_type": "code",
   "execution_count": null,
   "id": "35d72c25-679a-4ad4-af98-113a32d92ee9",
   "metadata": {},
   "outputs": [],
   "source": [
    "svm = SVC(kernel='rbf')\n",
    "svm.fit(X_train_split, y_train_split)\n",
    "y_val_pred = svm.predict(X_val_split)\n",
    "\n",
    "print(\"Validation Set Performance:\")\n",
    "print(classification_report(y_val_split, y_val_pred))\n",
    "print(\"Validation Accuracy Score:\", accuracy_score(y_val_split, y_val_pred))\n"
   ]
  },
  {
   "cell_type": "code",
   "execution_count": null,
   "id": "e8ff7bf3-8d6b-4007-99bb-55f15d886884",
   "metadata": {},
   "outputs": [],
   "source": [
    "# Now, test the model on the test dataset\n",
    "y_test_pred = svm.predict(X_test)\n",
    "\n",
    "# Evaluate the model performance on the test set\n",
    "print(\"Test Set Performance:\")\n",
    "print(classification_report(y_test, y_test_pred))\n",
    "print(\"Test Accuracy Score:\", accuracy_score(y_test, y_test_pred))\n",
    "\n",
    "# Optional: Visualize a few test images along with their predicted labels\n",
    "# Reshape a few test samples back to 28x28 for visualization purposes\n",
    "fig, axes = plt.subplots(1, 5, figsize=(10, 3))\n",
    "for i, ax in enumerate(axes):\n",
    "    ax.imshow(X_test[i].reshape(28, 28), cmap='gray')  # Reshape the flattened vector to 28x28\n",
    "    ax.set_title(f\"Pred: {y_test_pred[i]}\")\n",
    "    ax.axis('off')\n",
    "plt.show()\n"
   ]
  },
  {
   "cell_type": "code",
   "execution_count": 30,
   "id": "b2809bb8-a4de-4c72-93ff-4ac8d6e74bb3",
   "metadata": {},
   "outputs": [
    {
     "name": "stdout",
     "output_type": "stream",
     "text": [
      "SVC Validation Accuracy: 0.9650\n",
      "Random Forest Validation Accuracy: 0.9662\n",
      "Logistic Regression Validation Accuracy: 0.9123\n",
      "Gradient Boosting Validation Accuracy: 0.9442\n",
      "\n",
      "Test Set Results:\n",
      "SVC Test Accuracy: 0.9645\n",
      "              precision    recall  f1-score   support\n",
      "\n",
      "           0       0.98      0.98      0.98       980\n",
      "           1       0.99      0.99      0.99      1135\n",
      "           2       0.96      0.96      0.96      1032\n",
      "           3       0.97      0.97      0.97      1010\n",
      "           4       0.97      0.96      0.96       982\n",
      "           5       0.97      0.96      0.96       892\n",
      "           6       0.98      0.97      0.98       958\n",
      "           7       0.92      0.96      0.94      1028\n",
      "           8       0.96      0.95      0.95       974\n",
      "           9       0.97      0.94      0.95      1009\n",
      "\n",
      "    accuracy                           0.96     10000\n",
      "   macro avg       0.96      0.96      0.96     10000\n",
      "weighted avg       0.96      0.96      0.96     10000\n",
      "\n",
      "Random Forest Test Accuracy: 0.9675\n",
      "              precision    recall  f1-score   support\n",
      "\n",
      "           0       0.97      0.99      0.98       980\n",
      "           1       0.99      0.99      0.99      1135\n",
      "           2       0.96      0.96      0.96      1032\n",
      "           3       0.96      0.96      0.96      1010\n",
      "           4       0.96      0.97      0.97       982\n",
      "           5       0.98      0.96      0.97       892\n",
      "           6       0.98      0.98      0.98       958\n",
      "           7       0.97      0.96      0.96      1028\n",
      "           8       0.96      0.96      0.96       974\n",
      "           9       0.95      0.94      0.95      1009\n",
      "\n",
      "    accuracy                           0.97     10000\n",
      "   macro avg       0.97      0.97      0.97     10000\n",
      "weighted avg       0.97      0.97      0.97     10000\n",
      "\n",
      "Logistic Regression Test Accuracy: 0.9180\n",
      "              precision    recall  f1-score   support\n",
      "\n",
      "           0       0.94      0.96      0.95       980\n",
      "           1       0.95      0.98      0.97      1135\n",
      "           2       0.93      0.89      0.91      1032\n",
      "           3       0.89      0.91      0.90      1010\n",
      "           4       0.93      0.93      0.93       982\n",
      "           5       0.88      0.85      0.87       892\n",
      "           6       0.94      0.94      0.94       958\n",
      "           7       0.93      0.91      0.92      1028\n",
      "           8       0.87      0.88      0.88       974\n",
      "           9       0.90      0.92      0.91      1009\n",
      "\n",
      "    accuracy                           0.92     10000\n",
      "   macro avg       0.92      0.92      0.92     10000\n",
      "weighted avg       0.92      0.92      0.92     10000\n",
      "\n",
      "Gradient Boosting Test Accuracy: 0.9472\n",
      "              precision    recall  f1-score   support\n",
      "\n",
      "           0       0.96      0.98      0.97       980\n",
      "           1       0.97      0.99      0.98      1135\n",
      "           2       0.95      0.93      0.94      1032\n",
      "           3       0.93      0.94      0.94      1010\n",
      "           4       0.95      0.95      0.95       982\n",
      "           5       0.94      0.92      0.93       892\n",
      "           6       0.97      0.95      0.96       958\n",
      "           7       0.96      0.93      0.94      1028\n",
      "           8       0.91      0.94      0.92       974\n",
      "           9       0.91      0.93      0.92      1009\n",
      "\n",
      "    accuracy                           0.95     10000\n",
      "   macro avg       0.95      0.95      0.95     10000\n",
      "weighted avg       0.95      0.95      0.95     10000\n",
      "\n"
     ]
    }
   ],
   "source": [
    "import pandas as pd\n",
    "from sklearn.model_selection import train_test_split\n",
    "from sklearn.preprocessing import StandardScaler\n",
    "from sklearn.svm import SVC\n",
    "from sklearn.ensemble import RandomForestClassifier, GradientBoostingClassifier, BaggingClassifier\n",
    "from sklearn.linear_model import LogisticRegression\n",
    "from sklearn.metrics import accuracy_score, classification_report\n",
    "\n",
    "# Step 1: Load the datasets\n",
    "train_data=pd.read_csv(\"mnist_train.csv\")\n",
    "test_data=pd.read_csv(\"mnist_test.csv\")\n",
    "\n",
    "# Step 2: Separate features and labels\n",
    "X_train_full = train_data.drop(columns=['label']) # Assuming 'label' is the target column\n",
    "y_train_full = train_data['label']\n",
    "\n",
    "X_test = test_data.drop(columns=['label']) # Assuming 'label' is the target column\n",
    "y_test = test_data['label']\n",
    "\n",
    "# Step 3: Split train data into training and validation sets\n",
    "X_train, X_val, y_train, y_val = train_test_split(X_train_full, y_train_full, test_size=0.2, random_state=42, stratify=y_train_full)\n",
    "\n",
    "# Step 4: Preprocessing - Standardize the features\n",
    "scaler = StandardScaler()\n",
    "X_train = scaler.fit_transform(X_train)\n",
    "X_val = scaler.transform(X_val)\n",
    "X_test = scaler.transform(X_test)\n",
    "\n",
    "# Step 5: Train models\n",
    "models = {\n",
    "    \"SVC\": SVC(),\n",
    "    \"Random Forest\": RandomForestClassifier(),\n",
    "    \"Logistic Regression\": LogisticRegression(max_iter=1000),\n",
    "    \"Gradient Boosting\": GradientBoostingClassifier(),\n",
    "}\n",
    "\n",
    "# Step 6: Evaluate models on validation set\n",
    "for name, model in models.items():\n",
    "    model.fit(X_train, y_train)\n",
    "    y_val_pred = model.predict(X_val)\n",
    "    cr=classification_report(y_val, y_val_pred)\n",
    "    acc = accuracy_score(y_val, y_val_pred)\n",
    "    print(f\"{name} Validation Accuracy: {acc:.4f}\")\n",
    "\n",
    "# Step 7: Test models on test set\n",
    "print(\"\\nTest Set Results:\")\n",
    "for name, model in models.items():\n",
    "    y_test_pred = model.predict(X_test)\n",
    "    acc = accuracy_score(y_test, y_test_pred)\n",
    "    print(f\"{name} Test Accuracy: {acc:.4f}\")\n",
    "    print(classification_report(y_test, y_test_pred))"
   ]
  },
  {
   "cell_type": "code",
   "execution_count": null,
   "id": "35846b2e-6000-49d3-b126-f0096fda400b",
   "metadata": {},
   "outputs": [],
   "source": []
  }
 ],
 "metadata": {
  "kernelspec": {
   "display_name": "Python 3 (ipykernel)",
   "language": "python",
   "name": "python3"
  },
  "language_info": {
   "codemirror_mode": {
    "name": "ipython",
    "version": 3
   },
   "file_extension": ".py",
   "mimetype": "text/x-python",
   "name": "python",
   "nbconvert_exporter": "python",
   "pygments_lexer": "ipython3",
   "version": "3.12.4"
  }
 },
 "nbformat": 4,
 "nbformat_minor": 5
}
